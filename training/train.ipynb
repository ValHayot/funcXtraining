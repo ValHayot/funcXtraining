{
 "cells": [
  {
   "cell_type": "code",
   "execution_count": 1,
   "id": "6e2ac3e8",
   "metadata": {
    "ExecuteTime": {
     "end_time": "2022-12-11T23:20:13.403277Z",
     "start_time": "2022-12-11T23:20:12.457364Z"
    }
   },
   "outputs": [
    {
     "name": "stdout",
     "output_type": "stream",
     "text": [
      "The autoreload extension is already loaded. To reload it, use:\n",
      "  %reload_ext autoreload\n"
     ]
    }
   ],
   "source": [
    "%load_ext autoreload\n",
    "%autoreload 2\n",
    "%reload_ext autoreload\n",
    "%matplotlib inline"
   ]
  },
  {
   "cell_type": "code",
   "execution_count": 9,
   "id": "49d10062",
   "metadata": {
    "ExecuteTime": {
     "end_time": "2022-12-11T23:20:56.276491Z",
     "start_time": "2022-12-11T23:20:46.584978Z"
    }
   },
   "outputs": [
    {
     "name": "stderr",
     "output_type": "stream",
     "text": [
      "2022-12-12 00:20:46.807477: W tensorflow/stream_executor/platform/default/dso_loader.cc:60] Could not load dynamic library 'libcudart.so.11.0'; dlerror: libcudart.so.11.0: cannot open shared object file: No such file or directory\n",
      "2022-12-12 00:20:46.807493: I tensorflow/stream_executor/cuda/cudart_stub.cc:29] Ignore above cudart dlerror if you do not have a GPU set up on your machine.\n"
     ]
    }
   ],
   "source": [
    "import sys\n",
    "# use code from https://github.com/CaloChallenge/homepage/blob/main/code/HighLevelFeatures.ipynb\n",
    "sys.path.append(\"../homepage/code/\")\n",
    "\n",
    "from HighLevelFeatures import HighLevelFeatures as HLF\n",
    "import numpy as np\n",
    "import h5py\n",
    "import matplotlib.pyplot as plt\n",
    "from model import WGANGP"
   ]
  },
  {
   "cell_type": "code",
   "execution_count": 3,
   "id": "c255a527",
   "metadata": {
    "ExecuteTime": {
     "end_time": "2022-12-11T23:20:16.746414Z",
     "start_time": "2022-12-11T23:20:14.291468Z"
    }
   },
   "outputs": [
    {
     "name": "stdout",
     "output_type": "stream",
     "text": [
      "dataset 'incident_energies' has 121000 events, each with dimension of 1\n",
      "dataset 'showers' has 121000 events, each with dimension of 368\n"
     ]
    }
   ],
   "source": [
    "# creating instance of HighLevelFeatures class to handle geometry based on binning file\n",
    "input_path = '../input/dataset1'\n",
    "HLF_1_photons = HLF('photon', filename=f'{input_path}/binning_dataset_1_photons.xml')\n",
    "\n",
    "# loading the .hdf5 datasets\n",
    "photon_file = h5py.File(f'{input_path}/dataset_1_photons_1.hdf5', 'r')\n",
    "\n",
    "# each file contains one dataset for the incident energy and one for the showers.\n",
    "for dataset in photon_file:\n",
    "    # name of the datasets:\n",
    "    print(f\"dataset '{dataset}' has {photon_file[dataset][:].shape[0]} events, each with dimension of {photon_file[dataset][:].shape[1]}\")\n"
   ]
  },
  {
   "cell_type": "markdown",
   "id": "ecac6b3d",
   "metadata": {},
   "source": [
    "Create a condition label using the kinetic energy. The relativistic relation between kinetic energy and momentum is given by [ref](https://en.wikipedia.org/wiki/Kinetic_energy)\n",
    "\n",
    "$$E_k = \\sqrt{p^2 + m^2} - m$$\n",
    "\n",
    "Label is normalised by LogE, ie\n",
    "\n",
    "$$Lable (E_k) = \\frac{log\\frac{E_k}{E_{k, min}}}{log\\frac{E_{k, max}}{E_{k, min}}} $$"
   ]
  },
  {
   "cell_type": "code",
   "execution_count": 4,
   "id": "f06f737b",
   "metadata": {
    "ExecuteTime": {
     "end_time": "2022-12-11T23:20:16.898124Z",
     "start_time": "2022-12-11T23:20:16.843949Z"
    }
   },
   "outputs": [],
   "source": [
    "def particle_mass(particle=None):\n",
    "    if 'photon' in particle or particle == 22:\n",
    "        mass = 0\n",
    "    elif 'electron' in particle or particle == 11:\n",
    "        mass = 0.512\n",
    "    elif 'pion' in particle or particle == 211:\n",
    "        mass = 139.6\n",
    "    elif 'proton' in particle or particle == 2212:\n",
    "        mass = 938.27\n",
    "    return mass\n",
    "\n",
    "def kin_to_label(kin):\n",
    "    kin_min = np.min(kin)\n",
    "    kin_max = np.max(kin)\n",
    "    return np.log(kin / kin_min) / np.log(kin_max / kin_min)\n",
    "\n",
    "mass = particle_mass(HLF_1_photons.particle)\n",
    "kin = np.sqrt( np.square(photon_file['incident_energies'][:]) + np.square(mass) ) - mass\n",
    "label_kin = kin_to_label(kin)"
   ]
  },
  {
   "cell_type": "code",
   "execution_count": 5,
   "id": "5435fe27",
   "metadata": {
    "ExecuteTime": {
     "end_time": "2022-12-11T23:20:20.716965Z",
     "start_time": "2022-12-11T23:20:19.308400Z"
    }
   },
   "outputs": [
    {
     "data": {
      "image/png": "[encoded data removed]",
      "text/plain": [
       "<Figure size 432x288 with 1 Axes>"
      ]
     },
     "metadata": {
      "needs_background": "light"
     },
     "output_type": "display_data"
    }
   ],
   "source": [
    "X_train = photon_file['showers'][:] / kin\n",
    "_ = plt.hist(X_train.sum(axis=1), bins=100)"
   ]
  },
  {
   "cell_type": "code",
   "execution_count": 7,
   "id": "64f166a8",
   "metadata": {
    "ExecuteTime": {
     "end_time": "2022-12-11T23:20:26.540241Z",
     "start_time": "2022-12-11T23:20:25.179430Z"
    }
   },
   "outputs": [
    {
     "data": {
      "text/plain": [
       "(array([3.1000e+01, 9.0000e+00, 6.0000e+00, 5.0000e+00, 4.0000e+00,\n",
       "        1.0000e+01, 1.0000e+01, 1.7000e+01, 2.9000e+01, 1.8000e+01,\n",
       "        3.4000e+01, 2.6000e+01, 4.2000e+01, 5.8000e+01, 6.0000e+01,\n",
       "        7.5000e+01, 9.7000e+01, 1.0200e+02, 1.5200e+02, 1.9000e+02,\n",
       "        2.8000e+02, 2.9900e+02, 4.3500e+02, 4.8500e+02, 6.5200e+02,\n",
       "        9.2900e+02, 1.1910e+03, 1.7380e+03, 2.4820e+03, 4.0490e+03,\n",
       "        8.2410e+03, 3.4531e+04, 4.6479e+04, 7.8250e+03, 3.5370e+03,\n",
       "        2.0860e+03, 1.3590e+03, 9.3300e+02, 6.4600e+02, 4.6900e+02,\n",
       "        3.6700e+02, 2.7200e+02, 1.6900e+02, 1.1300e+02, 9.2000e+01,\n",
       "        8.4000e+01, 6.8000e+01, 4.2000e+01, 2.5000e+01, 2.9000e+01,\n",
       "        2.1000e+01, 2.3000e+01, 1.1000e+01, 1.0000e+01, 1.0000e+01,\n",
       "        8.0000e+00, 5.0000e+00, 2.0000e+00, 2.0000e+00, 3.0000e+00,\n",
       "        3.0000e+00, 5.0000e+00, 2.0000e+00, 2.0000e+00, 1.0000e+00,\n",
       "        1.0000e+00, 1.0000e+00, 0.0000e+00, 1.0000e+00, 3.0000e+00,\n",
       "        0.0000e+00, 1.0000e+00, 1.0000e+00, 0.0000e+00, 0.0000e+00,\n",
       "        0.0000e+00, 0.0000e+00, 0.0000e+00, 0.0000e+00, 1.0000e+00,\n",
       "        0.0000e+00, 0.0000e+00, 0.0000e+00, 0.0000e+00, 0.0000e+00,\n",
       "        0.0000e+00, 0.0000e+00, 0.0000e+00, 0.0000e+00, 0.0000e+00,\n",
       "        0.0000e+00, 0.0000e+00, 0.0000e+00, 0.0000e+00, 0.0000e+00,\n",
       "        0.0000e+00, 0.0000e+00, 0.0000e+00, 0.0000e+00, 1.0000e+00]),\n",
       " array([0.        , 0.03041351, 0.06082702, 0.09124053, 0.12165404,\n",
       "        0.15206755, 0.18248105, 0.21289456, 0.24330807, 0.27372158,\n",
       "        0.30413509, 0.3345486 , 0.36496211, 0.39537562, 0.42578913,\n",
       "        0.45620264, 0.48661614, 0.51702965, 0.54744316, 0.57785667,\n",
       "        0.60827018, 0.63868369, 0.6690972 , 0.69951071, 0.72992422,\n",
       "        0.76033773, 0.79075123, 0.82116474, 0.85157825, 0.88199176,\n",
       "        0.91240527, 0.94281878, 0.97323229, 1.0036458 , 1.03405931,\n",
       "        1.06447282, 1.09488632, 1.12529983, 1.15571334, 1.18612685,\n",
       "        1.21654036, 1.24695387, 1.27736738, 1.30778089, 1.3381944 ,\n",
       "        1.36860791, 1.39902142, 1.42943492, 1.45984843, 1.49026194,\n",
       "        1.52067545, 1.55108896, 1.58150247, 1.61191598, 1.64232949,\n",
       "        1.672743  , 1.70315651, 1.73357001, 1.76398352, 1.79439703,\n",
       "        1.82481054, 1.85522405, 1.88563756, 1.91605107, 1.94646458,\n",
       "        1.97687809, 2.0072916 , 2.0377051 , 2.06811861, 2.09853212,\n",
       "        2.12894563, 2.15935914, 2.18977265, 2.22018616, 2.25059967,\n",
       "        2.28101318, 2.31142669, 2.34184019, 2.3722537 , 2.40266721,\n",
       "        2.43308072, 2.46349423, 2.49390774, 2.52432125, 2.55473476,\n",
       "        2.58514827, 2.61556178, 2.64597529, 2.67638879, 2.7068023 ,\n",
       "        2.73721581, 2.76762932, 2.79804283, 2.82845634, 2.85886985,\n",
       "        2.88928336, 2.91969687, 2.95011038, 2.98052388, 3.01093739,\n",
       "        3.0413509 ]),\n",
       " <BarContainer object of 100 artists>)"
      ]
     },
     "execution_count": 7,
     "metadata": {},
     "output_type": "execute_result"
    },
    {
     "data": {
      "image/png": "[encoded data removed]",
      "text/plain": [
       "<Figure size 432x288 with 1 Axes>"
      ]
     },
     "metadata": {
      "needs_background": "light"
     },
     "output_type": "display_data"
    }
   ],
   "source": [
    "ratio = photon_file['showers'][:].sum(axis=1).reshape(-1,1) / photon_file['incident_energies'][:]\n",
    "plt.hist(ratio, bins=100)"
   ]
  },
  {
   "cell_type": "code",
   "execution_count": 8,
   "id": "d15dc10f",
   "metadata": {
    "ExecuteTime": {
     "end_time": "2022-12-11T23:20:36.968253Z",
     "start_time": "2022-12-11T23:20:36.947635Z"
    }
   },
   "outputs": [],
   "source": [
    "# HLF_1_photons.CalculateFeatures(photon_file[\"showers\"][:])\n",
    "# print(\"Total energy of each photon shower: \", HLF_1_photons.GetEtot())\n",
    "\n",
    "# # energy deposited in each layer of the geometry:\n",
    "# # (returns a dict with layer_number as key. Note that the ATLAS geometry has fewer relevant layer than are totally\n",
    "# # available, the 5th layer of the photons therefore has layer_number 12)\n",
    "# print(\"Energy deposited in each layer for each photon shower: \", HLF_1_photons.GetElayers())\n",
    "# # print(\"Average energy deposited in the first layer for pion showers: \", HLF_1_pions.GetElayers()[0].mean())\n",
    "# # print(\"Average energy deposited in the last layer for pion showers: \", HLF_1_pions.GetElayers()[14].mean())\n",
    "\n",
    "\n",
    "# # # Center of energy in eta direction:\n",
    "# # # (only available for layer with more than one alpha bin)\n",
    "# # print(\"Center of energy in eta direction for each photon shower: \", HLF_1_photons.GetECEtas())\n",
    "# # # and its width\n",
    "# # print(\"Width of center of energy in eta direction for each photon shower: \", HLF_1_photons.GetWidthEtas())\n",
    "\n",
    "# # # Center of energy in phi direction:\n",
    "# # # (only available for layer with more than one alpha bin)\n",
    "# # print(\"Center of energy in phi direction for each pion shower: \", HLF_1_pions.GetECPhis())\n",
    "# # # and its width\n",
    "# # print(\"Width of center of energy in phi direction for each pion shower: \", HLF_1_pions.GetWidthEtas())\n"
   ]
  },
  {
   "cell_type": "code",
   "execution_count": 33,
   "id": "5ca36108",
   "metadata": {
    "ExecuteTime": {
     "end_time": "2022-12-11T23:54:57.230444Z",
     "start_time": "2022-12-11T23:54:56.880903Z"
    },
    "scrolled": false
   },
   "outputs": [
    {
     "name": "stdout",
     "output_type": "stream",
     "text": [
      "Use model BNswish\n",
      "Model: \"model_8\"\n",
      "__________________________________________________________________________________________________\n",
      "Layer (type)                    Output Shape         Param #     Connected to                     \n",
      "==================================================================================================\n",
      "Noise (InputLayer)              [(None, 50)]         0                                            \n",
      "__________________________________________________________________________________________________\n",
      "mycond (InputLayer)             [(None, 1)]          0                                            \n",
      "__________________________________________________________________________________________________\n",
      "concatenate_8 (Concatenate)     (None, 51)           0           Noise[0][0]                      \n",
      "                                                                 mycond[0][0]                     \n",
      "__________________________________________________________________________________________________\n",
      "dense_64 (Dense)                (None, 50)           2600        concatenate_8[0][0]              \n",
      "__________________________________________________________________________________________________\n",
      "batch_normalization_32 (BatchNo (None, 50)           200         dense_64[0][0]                   \n",
      "__________________________________________________________________________________________________\n",
      "activation_32 (Activation)      (None, 50)           0           batch_normalization_32[0][0]     \n",
      "__________________________________________________________________________________________________\n",
      "dense_65 (Dense)                (None, 100)          5100        activation_32[0][0]              \n",
      "__________________________________________________________________________________________________\n",
      "batch_normalization_33 (BatchNo (None, 100)          400         dense_65[0][0]                   \n",
      "__________________________________________________________________________________________________\n",
      "activation_33 (Activation)      (None, 100)          0           batch_normalization_33[0][0]     \n",
      "__________________________________________________________________________________________________\n",
      "dense_66 (Dense)                (None, 200)          20200       activation_33[0][0]              \n",
      "__________________________________________________________________________________________________\n",
      "batch_normalization_34 (BatchNo (None, 200)          800         dense_66[0][0]                   \n",
      "__________________________________________________________________________________________________\n",
      "activation_34 (Activation)      (None, 200)          0           batch_normalization_34[0][0]     \n",
      "__________________________________________________________________________________________________\n",
      "dense_67 (Dense)                (None, 368)          73968       activation_34[0][0]              \n",
      "__________________________________________________________________________________________________\n",
      "batch_normalization_35 (BatchNo (None, 368)          1472        dense_67[0][0]                   \n",
      "__________________________________________________________________________________________________\n",
      "activation_35 (Activation)      (None, 368)          0           batch_normalization_35[0][0]     \n",
      "==================================================================================================\n",
      "Total params: 104,740\n",
      "Trainable params: 103,304\n",
      "Non-trainable params: 1,436\n",
      "__________________________________________________________________________________________________\n",
      "Model: \"sequential_8\"\n",
      "_________________________________________________________________\n",
      "Layer (type)                 Output Shape              Param #   \n",
      "=================================================================\n",
      "dense_68 (Dense)             (None, 368)               136160    \n",
      "_________________________________________________________________\n",
      "re_lu_24 (ReLU)              (None, 368)               0         \n",
      "_________________________________________________________________\n",
      "dense_69 (Dense)             (None, 368)               135792    \n",
      "_________________________________________________________________\n",
      "re_lu_25 (ReLU)              (None, 368)               0         \n",
      "_________________________________________________________________\n",
      "dense_70 (Dense)             (None, 368)               135792    \n",
      "_________________________________________________________________\n",
      "re_lu_26 (ReLU)              (None, 368)               0         \n",
      "_________________________________________________________________\n",
      "dense_71 (Dense)             (None, 1)                 369       \n",
      "=================================================================\n",
      "Total params: 408,113\n",
      "Trainable params: 408,113\n",
      "Non-trainable params: 0\n",
      "_________________________________________________________________\n",
      "configuration {'particle': 'photons', 'eta_slice': '20_25', 'checkpoint_interval': 2, 'output': '../output/dataset1/v1', 'max_iter': 16, 'cache': True} {'model': 'BNswish', 'G_size': 1, 'D_size': 1, 'G_lr': 0.0001, 'D_lr': 0.0001, 'G_beta1': 0.5, 'batchsize': 512, 'dgratio': 5, 'latent_dim': 50, 'lam': 3, 'conditional_dim': 1, 'generatorLayers': [50, 100, 200], 'nvoxels': 368, 'use_bias': True}\n"
     ]
    }
   ],
   "source": [
    "hp_config = {\n",
    "    'model': 'BNswish',\n",
    "    'G_size': 1,\n",
    "    'D_size': 1,\n",
    "    'G_lr': 1E-4,\n",
    "    'D_lr': 1E-4,\n",
    "    'G_beta1': 0.5,\n",
    "    'G_beta1': 0.5,\n",
    "    'batchsize': 512,\n",
    "    'dgratio': 5,\n",
    "    'latent_dim': 50,\n",
    "    'lam': 3,\n",
    "    'conditional_dim': label_kin.shape[1],\n",
    "    'generatorLayers': [50, 100, 200],\n",
    "    'nvoxels': 368,\n",
    "    'use_bias': True,\n",
    "}\n",
    "\n",
    "job_config = {\n",
    "    'particle': 'photons',\n",
    "    'eta_slice': '20_25',\n",
    "    'checkpoint_interval': 2,\n",
    "    'output': '../output/dataset1/v1',\n",
    "    'max_iter': 16,\n",
    "    'cache': True,\n",
    "}\n",
    "\n",
    "wgan = WGANGP(job_config=job_config, hp_config=hp_config)"
   ]
  },
  {
   "cell_type": "code",
   "execution_count": 34,
   "id": "8303d48f",
   "metadata": {
    "ExecuteTime": {
     "end_time": "2022-12-11T23:55:19.606960Z",
     "start_time": "2022-12-11T23:54:57.235834Z"
    },
    "scrolled": false
   },
   "outputs": [
    {
     "name": "stdout",
     "output_type": "stream",
     "text": [
      "Iter: 0 skip, load ../output/dataset1/v1/photons_eta_20_25/checkpoints/model-1\n",
      "Iter: 2 skip, load ../output/dataset1/v1/photons_eta_20_25/checkpoints/model-2\n",
      "Iter: 4 skip, load ../output/dataset1/v1/photons_eta_20_25/checkpoints/model-3\n",
      "Iter: 6 skip, load ../output/dataset1/v1/photons_eta_20_25/checkpoints/model-4\n",
      "Iter: 8 skip, load ../output/dataset1/v1/photons_eta_20_25/checkpoints/model-5\n",
      "Iter: 10 skip, load ../output/dataset1/v1/photons_eta_20_25/checkpoints/model-6\n",
      "Iter: 12 skip, load ../output/dataset1/v1/photons_eta_20_25/checkpoints/model-7\n",
      "Iter: 14 skip, load ../output/dataset1/v1/photons_eta_20_25/checkpoints/model-8\n",
      "WARNING:tensorflow:Unresolved object in checkpoint: (root).discriminator_optimizer.iter\n",
      "WARNING:tensorflow:Unresolved object in checkpoint: (root).discriminator_optimizer.beta_1\n",
      "WARNING:tensorflow:Unresolved object in checkpoint: (root).discriminator_optimizer.beta_2\n",
      "WARNING:tensorflow:Unresolved object in checkpoint: (root).discriminator_optimizer.decay\n",
      "WARNING:tensorflow:Unresolved object in checkpoint: (root).discriminator_optimizer.learning_rate\n",
      "WARNING:tensorflow:Unresolved object in checkpoint: (root).generator_optimizer.iter\n",
      "WARNING:tensorflow:Unresolved object in checkpoint: (root).generator_optimizer.beta_1\n",
      "WARNING:tensorflow:Unresolved object in checkpoint: (root).generator_optimizer.beta_2\n",
      "WARNING:tensorflow:Unresolved object in checkpoint: (root).generator_optimizer.decay\n",
      "WARNING:tensorflow:Unresolved object in checkpoint: (root).generator_optimizer.learning_rate\n",
      "WARNING:tensorflow:A checkpoint was restored (e.g. tf.train.Checkpoint.restore or tf.keras.Model.load_weights) but not all checkpointed values were used. See above for specific issues. Use expect_partial() on the load status object, e.g. tf.train.Checkpoint.restore(...).expect_partial(), to silence these warnings, or use assert_consumed() to make the check explicit. See https://www.tensorflow.org/guide/checkpoint#loading_mechanics for details.\n",
      "WARNING:tensorflow:Unresolved object in checkpoint: (root).discriminator_optimizer.iter\n",
      "WARNING:tensorflow:Unresolved object in checkpoint: (root).discriminator_optimizer.beta_1\n",
      "WARNING:tensorflow:Unresolved object in checkpoint: (root).discriminator_optimizer.beta_2\n",
      "WARNING:tensorflow:Unresolved object in checkpoint: (root).discriminator_optimizer.decay\n",
      "WARNING:tensorflow:Unresolved object in checkpoint: (root).discriminator_optimizer.learning_rate\n",
      "WARNING:tensorflow:Unresolved object in checkpoint: (root).generator_optimizer.iter\n",
      "WARNING:tensorflow:Unresolved object in checkpoint: (root).generator_optimizer.beta_1\n",
      "WARNING:tensorflow:Unresolved object in checkpoint: (root).generator_optimizer.beta_2\n",
      "WARNING:tensorflow:Unresolved object in checkpoint: (root).generator_optimizer.decay\n",
      "WARNING:tensorflow:Unresolved object in checkpoint: (root).generator_optimizer.learning_rate\n",
      "WARNING:tensorflow:A checkpoint was restored (e.g. tf.train.Checkpoint.restore or tf.keras.Model.load_weights) but not all checkpointed values were used. See above for specific issues. Use expect_partial() on the load status object, e.g. tf.train.Checkpoint.restore(...).expect_partial(), to silence these warnings, or use assert_consumed() to make the check explicit. See https://www.tensorflow.org/guide/checkpoint#loading_mechanics for details.\n",
      "WARNING:tensorflow:Unresolved object in checkpoint: (root).discriminator_optimizer.iter\n",
      "WARNING:tensorflow:Unresolved object in checkpoint: (root).discriminator_optimizer.beta_1\n",
      "WARNING:tensorflow:Unresolved object in checkpoint: (root).discriminator_optimizer.beta_2\n",
      "WARNING:tensorflow:Unresolved object in checkpoint: (root).discriminator_optimizer.decay\n",
      "WARNING:tensorflow:Unresolved object in checkpoint: (root).discriminator_optimizer.learning_rate\n",
      "WARNING:tensorflow:Unresolved object in checkpoint: (root).generator_optimizer.iter\n",
      "WARNING:tensorflow:Unresolved object in checkpoint: (root).generator_optimizer.beta_1\n",
      "WARNING:tensorflow:Unresolved object in checkpoint: (root).generator_optimizer.beta_2\n",
      "WARNING:tensorflow:Unresolved object in checkpoint: (root).generator_optimizer.decay\n",
      "WARNING:tensorflow:Unresolved object in checkpoint: (root).generator_optimizer.learning_rate\n",
      "WARNING:tensorflow:A checkpoint was restored (e.g. tf.train.Checkpoint.restore or tf.keras.Model.load_weights) but not all checkpointed values were used. See above for specific issues. Use expect_partial() on the load status object, e.g. tf.train.Checkpoint.restore(...).expect_partial(), to silence these warnings, or use assert_consumed() to make the check explicit. See https://www.tensorflow.org/guide/checkpoint#loading_mechanics for details.\n",
      "WARNING:tensorflow:Unresolved object in checkpoint: (root).discriminator_optimizer.iter\n",
      "WARNING:tensorflow:Unresolved object in checkpoint: (root).discriminator_optimizer.beta_1\n",
      "WARNING:tensorflow:Unresolved object in checkpoint: (root).discriminator_optimizer.beta_2\n",
      "WARNING:tensorflow:Unresolved object in checkpoint: (root).discriminator_optimizer.decay\n",
      "WARNING:tensorflow:Unresolved object in checkpoint: (root).discriminator_optimizer.learning_rate\n",
      "WARNING:tensorflow:Unresolved object in checkpoint: (root).generator_optimizer.iter\n",
      "WARNING:tensorflow:Unresolved object in checkpoint: (root).generator_optimizer.beta_1\n",
      "WARNING:tensorflow:Unresolved object in checkpoint: (root).generator_optimizer.beta_2\n",
      "WARNING:tensorflow:Unresolved object in checkpoint: (root).generator_optimizer.decay\n",
      "WARNING:tensorflow:Unresolved object in checkpoint: (root).generator_optimizer.learning_rate\n",
      "WARNING:tensorflow:A checkpoint was restored (e.g. tf.train.Checkpoint.restore or tf.keras.Model.load_weights) but not all checkpointed values were used. See above for specific issues. Use expect_partial() on the load status object, e.g. tf.train.Checkpoint.restore(...).expect_partial(), to silence these warnings, or use assert_consumed() to make the check explicit. See https://www.tensorflow.org/guide/checkpoint#loading_mechanics for details.\n",
      "WARNING:tensorflow:Unresolved object in checkpoint: (root).discriminator_optimizer.iter\n",
      "WARNING:tensorflow:Unresolved object in checkpoint: (root).discriminator_optimizer.beta_1\n",
      "WARNING:tensorflow:Unresolved object in checkpoint: (root).discriminator_optimizer.beta_2\n",
      "WARNING:tensorflow:Unresolved object in checkpoint: (root).discriminator_optimizer.decay\n",
      "WARNING:tensorflow:Unresolved object in checkpoint: (root).discriminator_optimizer.learning_rate\n",
      "WARNING:tensorflow:Unresolved object in checkpoint: (root).generator_optimizer.iter\n",
      "WARNING:tensorflow:Unresolved object in checkpoint: (root).generator_optimizer.beta_1\n",
      "WARNING:tensorflow:Unresolved object in checkpoint: (root).generator_optimizer.beta_2\n",
      "WARNING:tensorflow:Unresolved object in checkpoint: (root).generator_optimizer.decay\n",
      "WARNING:tensorflow:Unresolved object in checkpoint: (root).generator_optimizer.learning_rate\n",
      "WARNING:tensorflow:A checkpoint was restored (e.g. tf.train.Checkpoint.restore or tf.keras.Model.load_weights) but not all checkpointed values were used. See above for specific issues. Use expect_partial() on the load status object, e.g. tf.train.Checkpoint.restore(...).expect_partial(), to silence these warnings, or use assert_consumed() to make the check explicit. See https://www.tensorflow.org/guide/checkpoint#loading_mechanics for details.\n",
      "Iter: 16; D loss: -0.1563; G_loss: 0.0764; TotalTime: 6.1046; TrainLoop: 1.5743, Save: 1.333\n",
      "> \u001b[0;32m/afs/cern.ch/work/z/zhangr/FCG/FastCaloChallenge/training/model.py\u001b[0m(299)\u001b[0;36mplot_loss\u001b[0;34m()\u001b[0m\n",
      "\u001b[0;32m    297 \u001b[0;31m        \u001b[0max\u001b[0m\u001b[0;34m.\u001b[0m\u001b[0mcla\u001b[0m\u001b[0;34m(\u001b[0m\u001b[0;34m)\u001b[0m\u001b[0;34m\u001b[0m\u001b[0;34m\u001b[0m\u001b[0m\n",
      "\u001b[0m\u001b[0;32m    298 \u001b[0;31m        \u001b[0mset_trace\u001b[0m\u001b[0;34m(\u001b[0m\u001b[0;34m)\u001b[0m\u001b[0;34m\u001b[0m\u001b[0;34m\u001b[0m\u001b[0m\n",
      "\u001b[0m\u001b[0;32m--> 299 \u001b[0;31m        \u001b[0max\u001b[0m\u001b[0;34m.\u001b[0m\u001b[0mplot\u001b[0m\u001b[0;34m(\u001b[0m\u001b[0mmeta_data\u001b[0m\u001b[0;34m[\u001b[0m\u001b[0;34m'Iteration'\u001b[0m\u001b[0;34m]\u001b[0m\u001b[0;34m,\u001b[0m \u001b[0mmeta_data\u001b[0m\u001b[0;34m[\u001b[0m\u001b[0;34m'Gloss'\u001b[0m\u001b[0;34m]\u001b[0m\u001b[0;34m,\u001b[0m \u001b[0mlabel\u001b[0m\u001b[0;34m=\u001b[0m\u001b[0;34m\"Generator\"\u001b[0m\u001b[0;34m)\u001b[0m\u001b[0;34m\u001b[0m\u001b[0;34m\u001b[0m\u001b[0m\n",
      "\u001b[0m\u001b[0;32m    300 \u001b[0;31m        \u001b[0max\u001b[0m\u001b[0;34m.\u001b[0m\u001b[0mplot\u001b[0m\u001b[0;34m(\u001b[0m\u001b[0mmeta_data\u001b[0m\u001b[0;34m[\u001b[0m\u001b[0;34m'Iteration'\u001b[0m\u001b[0;34m]\u001b[0m\u001b[0;34m,\u001b[0m \u001b[0mmeta_data\u001b[0m\u001b[0;34m[\u001b[0m\u001b[0;34m'Dloss'\u001b[0m\u001b[0;34m]\u001b[0m\u001b[0;34m,\u001b[0m \u001b[0mlabel\u001b[0m\u001b[0;34m=\u001b[0m\u001b[0;34m\"Discriminator\"\u001b[0m\u001b[0;34m)\u001b[0m\u001b[0;34m\u001b[0m\u001b[0;34m\u001b[0m\u001b[0m\n",
      "\u001b[0m\u001b[0;32m    301 \u001b[0;31m        \u001b[0max\u001b[0m\u001b[0;34m.\u001b[0m\u001b[0mset_xlabel\u001b[0m\u001b[0;34m(\u001b[0m\u001b[0;34m\"Iteration\"\u001b[0m\u001b[0;34m,\u001b[0m \u001b[0mfontsize\u001b[0m\u001b[0;34m=\u001b[0m\u001b[0;36m15\u001b[0m\u001b[0;34m)\u001b[0m\u001b[0;34m\u001b[0m\u001b[0;34m\u001b[0m\u001b[0m\n",
      "\u001b[0m\n"
     ]
    },
    {
     "name": "stdout",
     "output_type": "stream",
     "text": [
      "ipdb> c\n",
      "Save to ../output/dataset1/v1/photons_eta_20_25/train/loss.pdf\n"
     ]
    },
    {
     "data": {
      "image/png": "[encoded data removed]",
      "text/plain": [
       "<Figure size 432x288 with 1 Axes>"
      ]
     },
     "metadata": {
      "needs_background": "light"
     },
     "output_type": "display_data"
    }
   ],
   "source": [
    "wgan.train(X_train, label_kin)"
   ]
  },
  {
   "cell_type": "code",
   "execution_count": null,
   "id": "69095842",
   "metadata": {},
   "outputs": [],
   "source": []
  }
 ],
 "metadata": {
  "kernelspec": {
   "display_name": "Python 3 (ipykernel)",
   "language": "python",
   "name": "python3"
  },
  "language_info": {
   "codemirror_mode": {
    "name": "ipython",
    "version": 3
   },
   "file_extension": ".py",
   "mimetype": "text/x-python",
   "name": "python",
   "nbconvert_exporter": "python",
   "pygments_lexer": "ipython3",
   "version": "3.8.12"
  }
 },
 "nbformat": 4,
 "nbformat_minor": 5
}
